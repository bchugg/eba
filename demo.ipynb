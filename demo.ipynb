{
 "cells": [
  {
   "cell_type": "code",
   "execution_count": 20,
   "metadata": {},
   "outputs": [
    {
     "name": "stdout",
     "output_type": "stream",
     "text": [
      "The autoreload extension is already loaded. To reload it, use:\n",
      "  %reload_ext autoreload\n"
     ]
    }
   ],
   "source": [
    "import pandas as pd \n",
    "import numpy as np \n",
    "\n",
    "from xbounds import EBA\n",
    "from sklearn.datasets import make_regression\n",
    "\n",
    "%load_ext autoreload\n",
    "%autoreload 2"
   ]
  },
  {
   "cell_type": "code",
   "execution_count": null,
   "metadata": {},
   "outputs": [],
   "source": [
    "X, y, coef = make_regression(500, n_features=10, n_informative=3, coef=True)\n",
    "\n",
    "eba = EBA(k=3, savepath='results/test', save_by_var=True, \n",
    "    check_for_existing=False)\n",
    "\n",
    "results = eba.run(X, y)"
   ]
  },
  {
   "cell_type": "markdown",
   "metadata": {},
   "source": [
    "# Panel Data w/ fixed effects "
   ]
  },
  {
   "cell_type": "code",
   "execution_count": 36,
   "metadata": {},
   "outputs": [
    {
     "data": {
      "text/html": [
       "<div>\n",
       "<style scoped>\n",
       "    .dataframe tbody tr th:only-of-type {\n",
       "        vertical-align: middle;\n",
       "    }\n",
       "\n",
       "    .dataframe tbody tr th {\n",
       "        vertical-align: top;\n",
       "    }\n",
       "\n",
       "    .dataframe thead th {\n",
       "        text-align: right;\n",
       "    }\n",
       "</style>\n",
       "<table border=\"1\" class=\"dataframe\">\n",
       "  <thead>\n",
       "    <tr style=\"text-align: right;\">\n",
       "      <th></th>\n",
       "      <th></th>\n",
       "      <th>0</th>\n",
       "      <th>1</th>\n",
       "      <th>2</th>\n",
       "      <th>3</th>\n",
       "      <th>4</th>\n",
       "      <th>5</th>\n",
       "      <th>6</th>\n",
       "      <th>7</th>\n",
       "      <th>8</th>\n",
       "      <th>9</th>\n",
       "    </tr>\n",
       "    <tr>\n",
       "      <th>country</th>\n",
       "      <th>year</th>\n",
       "      <th></th>\n",
       "      <th></th>\n",
       "      <th></th>\n",
       "      <th></th>\n",
       "      <th></th>\n",
       "      <th></th>\n",
       "      <th></th>\n",
       "      <th></th>\n",
       "      <th></th>\n",
       "      <th></th>\n",
       "    </tr>\n",
       "  </thead>\n",
       "  <tbody>\n",
       "    <tr>\n",
       "      <th>DE</th>\n",
       "      <th>2012</th>\n",
       "      <td>0.021620</td>\n",
       "      <td>-0.007795</td>\n",
       "      <td>-0.952805</td>\n",
       "      <td>-0.754420</td>\n",
       "      <td>1.498334</td>\n",
       "      <td>-0.648242</td>\n",
       "      <td>1.251365</td>\n",
       "      <td>0.603693</td>\n",
       "      <td>-0.180620</td>\n",
       "      <td>-1.173393</td>\n",
       "    </tr>\n",
       "    <tr>\n",
       "      <th>UK</th>\n",
       "      <th>2012</th>\n",
       "      <td>-0.130833</td>\n",
       "      <td>1.512658</td>\n",
       "      <td>-0.271253</td>\n",
       "      <td>0.867738</td>\n",
       "      <td>-0.434134</td>\n",
       "      <td>0.800706</td>\n",
       "      <td>1.095624</td>\n",
       "      <td>-0.504108</td>\n",
       "      <td>0.279572</td>\n",
       "      <td>2.405985</td>\n",
       "    </tr>\n",
       "    <tr>\n",
       "      <th>DE</th>\n",
       "      <th>2010</th>\n",
       "      <td>0.284761</td>\n",
       "      <td>1.377646</td>\n",
       "      <td>-0.762277</td>\n",
       "      <td>-0.664279</td>\n",
       "      <td>-1.081755</td>\n",
       "      <td>1.314504</td>\n",
       "      <td>0.175994</td>\n",
       "      <td>-0.032225</td>\n",
       "      <td>0.645821</td>\n",
       "      <td>-0.984914</td>\n",
       "    </tr>\n",
       "    <tr>\n",
       "      <th rowspan=\"2\" valign=\"top\">US</th>\n",
       "      <th>2011</th>\n",
       "      <td>1.153242</td>\n",
       "      <td>1.130490</td>\n",
       "      <td>0.757470</td>\n",
       "      <td>1.767028</td>\n",
       "      <td>-2.281821</td>\n",
       "      <td>-0.927491</td>\n",
       "      <td>-0.958144</td>\n",
       "      <td>-0.069337</td>\n",
       "      <td>0.691922</td>\n",
       "      <td>0.932341</td>\n",
       "    </tr>\n",
       "    <tr>\n",
       "      <th>2012</th>\n",
       "      <td>1.648008</td>\n",
       "      <td>0.174478</td>\n",
       "      <td>0.148963</td>\n",
       "      <td>0.358417</td>\n",
       "      <td>-1.260356</td>\n",
       "      <td>-1.228118</td>\n",
       "      <td>3.157885</td>\n",
       "      <td>0.043115</td>\n",
       "      <td>-2.914568</td>\n",
       "      <td>0.010107</td>\n",
       "    </tr>\n",
       "  </tbody>\n",
       "</table>\n",
       "</div>"
      ],
      "text/plain": [
       "                     0         1         2         3         4         5  \\\n",
       "country year                                                               \n",
       "DE      2012  0.021620 -0.007795 -0.952805 -0.754420  1.498334 -0.648242   \n",
       "UK      2012 -0.130833  1.512658 -0.271253  0.867738 -0.434134  0.800706   \n",
       "DE      2010  0.284761  1.377646 -0.762277 -0.664279 -1.081755  1.314504   \n",
       "US      2011  1.153242  1.130490  0.757470  1.767028 -2.281821 -0.927491   \n",
       "        2012  1.648008  0.174478  0.148963  0.358417 -1.260356 -1.228118   \n",
       "\n",
       "                     6         7         8         9  \n",
       "country year                                          \n",
       "DE      2012  1.251365  0.603693 -0.180620 -1.173393  \n",
       "UK      2012  1.095624 -0.504108  0.279572  2.405985  \n",
       "DE      2010  0.175994 -0.032225  0.645821 -0.984914  \n",
       "US      2011 -0.958144 -0.069337  0.691922  0.932341  \n",
       "        2012  3.157885  0.043115 -2.914568  0.010107  "
      ]
     },
     "execution_count": 36,
     "metadata": {},
     "output_type": "execute_result"
    }
   ],
   "source": [
    "df.set_index(['country', 'year']).head()"
   ]
  },
  {
   "cell_type": "code",
   "execution_count": null,
   "metadata": {},
   "outputs": [],
   "source": [
    "X, y = make_regression(500, n_features=10, n_informative=3)\n",
    "countries = np.random.choice(['US', 'UK', 'FR', 'DE'], 500)\n",
    "year = np.random.choice([2010, 2011, 2012, 2013], 500)\n",
    "\n",
    "df = pd.DataFrame(X)\n",
    "df['country'] = countries\n",
    "df['year'] = year\n",
    "\n",
    "eba = EBA(k=3, savepath='results/test_panel', save_by_var=True, \n",
    "    check_for_existing=False, entity_effects=True, time_effects=True)\n",
    "\n",
    "results = eba.run(df, y, free=[1,2], entity_col='country', time_col='year')\n",
    "\n"
   ]
  }
 ],
 "metadata": {
  "kernelspec": {
   "display_name": "coup-prediction",
   "language": "python",
   "name": "python3"
  },
  "language_info": {
   "codemirror_mode": {
    "name": "ipython",
    "version": 3
   },
   "file_extension": ".py",
   "mimetype": "text/x-python",
   "name": "python",
   "nbconvert_exporter": "python",
   "pygments_lexer": "ipython3",
   "version": "3.9.12"
  },
  "orig_nbformat": 4
 },
 "nbformat": 4,
 "nbformat_minor": 2
}
