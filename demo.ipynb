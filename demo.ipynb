{
 "cells": [
  {
   "cell_type": "code",
   "execution_count": null,
   "metadata": {},
   "outputs": [],
   "source": [
    "import pandas as pd \n",
    "import numpy as np \n",
    "\n",
    "from xbounds import EBA\n",
    "from sklearn.datasets import make_regression\n",
    "\n",
    "%load_ext autoreload\n",
    "%autoreload 2"
   ]
  },
  {
   "cell_type": "code",
   "execution_count": null,
   "metadata": {},
   "outputs": [],
   "source": [
    "X, y, coef = make_regression(500, n_features=10, n_informative=3, coef=True)\n",
    "\n",
    "eba = EBA(k=3, savepath='results/test', save_by_var=True, \n",
    "    check_for_existing=False)\n",
    "\n",
    "results = eba.run(X, y, free=[0,1])"
   ]
  },
  {
   "cell_type": "code",
   "execution_count": null,
   "metadata": {},
   "outputs": [],
   "source": [
    "for key, val in results.items():\n",
    "    #print(key, val.keys())\n",
    "    print(key, val['sala_generic_unweighted'])"
   ]
  },
  {
   "cell_type": "code",
   "execution_count": null,
   "metadata": {},
   "outputs": [],
   "source": [
    "coef"
   ]
  },
  {
   "cell_type": "markdown",
   "metadata": {},
   "source": [
    "# Panel Data w/ fixed effects "
   ]
  },
  {
   "cell_type": "code",
   "execution_count": null,
   "metadata": {},
   "outputs": [],
   "source": [
    "X, y, coef = make_regression(500, n_features=10, n_informative=3, coef=True)\n",
    "countries = np.random.choice(['US', 'UK', 'FR', 'DE'], 500)\n",
    "year = np.random.choice([2010, 2011, 2012, 2013], 500)\n",
    "\n",
    "df = pd.DataFrame(X)\n",
    "df['country'] = countries\n",
    "df['year'] = year\n",
    "\n",
    "eba = EBA(k=3, savepath='results/test_panel', save_by_var=True, \n",
    "    check_for_existing=False, entity_effects=True, time_effects=True)\n",
    "\n",
    "results = eba.run(df, y, free=[0,1], entity_col='country', time_col='year')\n",
    "\n"
   ]
  },
  {
   "cell_type": "code",
   "execution_count": null,
   "metadata": {},
   "outputs": [],
   "source": [
    "for key, val in results.items():\n",
    "    print(key, val['sala_generic_unweighted'])"
   ]
  },
  {
   "cell_type": "code",
   "execution_count": null,
   "metadata": {},
   "outputs": [],
   "source": [
    "coef"
   ]
  }
 ],
 "metadata": {
  "kernelspec": {
   "display_name": "coup-prediction",
   "language": "python",
   "name": "python3"
  },
  "language_info": {
   "codemirror_mode": {
    "name": "ipython",
    "version": 3
   },
   "file_extension": ".py",
   "mimetype": "text/x-python",
   "name": "python",
   "nbconvert_exporter": "python",
   "pygments_lexer": "ipython3",
   "version": "3.9.12"
  },
  "orig_nbformat": 4
 },
 "nbformat": 4,
 "nbformat_minor": 2
}
