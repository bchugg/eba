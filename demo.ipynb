{
 "cells": [
  {
   "cell_type": "code",
   "execution_count": 48,
   "metadata": {},
   "outputs": [
    {
     "name": "stdout",
     "output_type": "stream",
     "text": [
      "The autoreload extension is already loaded. To reload it, use:\n",
      "  %reload_ext autoreload\n"
     ]
    }
   ],
   "source": [
    "import pandas as pd \n",
    "import numpy as np \n",
    "from copy import deepcopy\n",
    "\n",
    "from xbounds import EBA\n",
    "from sklearn.datasets import make_regression\n",
    "\n",
    "%load_ext autoreload\n",
    "%autoreload 2"
   ]
  },
  {
   "cell_type": "code",
   "execution_count": 56,
   "metadata": {},
   "outputs": [
    {
     "name": "stdout",
     "output_type": "stream",
     "text": [
      "RangeIndex(start=0, stop=10, step=1)\n",
      "Variables Summary\n",
      "------------------------------------------------------------\n",
      "0 Free variables: []\n",
      "10 Focus variables\n",
      "10 Doubtful variables\n",
      "------------------------------------------------------------ \n",
      "\n",
      "Running analysis for: 0\n"
     ]
    },
    {
     "ename": "NameError",
     "evalue": "name 'norm' is not defined",
     "output_type": "error",
     "traceback": [
      "\u001b[0;31m---------------------------------------------------------------------------\u001b[0m",
      "\u001b[0;31mNameError\u001b[0m                                 Traceback (most recent call last)",
      "\u001b[1;32m/Users/benchugg/Documents/research/eba/demo.ipynb Cell 2\u001b[0m in \u001b[0;36m<cell line: 6>\u001b[0;34m()\u001b[0m\n\u001b[1;32m      <a href='vscode-notebook-cell:/Users/benchugg/Documents/research/eba/demo.ipynb#W1sZmlsZQ%3D%3D?line=0'>1</a>\u001b[0m X, y, coef \u001b[39m=\u001b[39m make_regression(\u001b[39m500\u001b[39m, n_features\u001b[39m=\u001b[39m\u001b[39m10\u001b[39m, n_informative\u001b[39m=\u001b[39m\u001b[39m3\u001b[39m, coef\u001b[39m=\u001b[39m\u001b[39mTrue\u001b[39;00m)\n\u001b[1;32m      <a href='vscode-notebook-cell:/Users/benchugg/Documents/research/eba/demo.ipynb#W1sZmlsZQ%3D%3D?line=2'>3</a>\u001b[0m eba \u001b[39m=\u001b[39m EBA(k\u001b[39m=\u001b[39m\u001b[39m3\u001b[39m, savepath\u001b[39m=\u001b[39m\u001b[39m'\u001b[39m\u001b[39mresults/test\u001b[39m\u001b[39m'\u001b[39m, save_by_var\u001b[39m=\u001b[39m\u001b[39mTrue\u001b[39;00m, \n\u001b[1;32m      <a href='vscode-notebook-cell:/Users/benchugg/Documents/research/eba/demo.ipynb#W1sZmlsZQ%3D%3D?line=3'>4</a>\u001b[0m     check_for_existing\u001b[39m=\u001b[39m\u001b[39mFalse\u001b[39;00m)\n\u001b[0;32m----> <a href='vscode-notebook-cell:/Users/benchugg/Documents/research/eba/demo.ipynb#W1sZmlsZQ%3D%3D?line=5'>6</a>\u001b[0m eba\u001b[39m.\u001b[39;49mrun(X, y)\n",
      "File \u001b[0;32m~/Documents/research/eba/xbounds/eba.py:163\u001b[0m, in \u001b[0;36mEBA.run\u001b[0;34m(self, df, y, focus, free, doubtful)\u001b[0m\n\u001b[1;32m    160\u001b[0m     \u001b[39mself\u001b[39m\u001b[39m.\u001b[39mfocus \u001b[39m=\u001b[39m remove_existing(\u001b[39mself\u001b[39m\u001b[39m.\u001b[39mfocus, \u001b[39mself\u001b[39m\u001b[39m.\u001b[39msavepath, \u001b[39mself\u001b[39m\u001b[39m.\u001b[39mverbose)\n\u001b[1;32m    162\u001b[0m \u001b[39m# Run analysis for each focus variable \u001b[39;00m\n\u001b[0;32m--> 163\u001b[0m results \u001b[39m=\u001b[39m Parallel(n_jobs\u001b[39m=\u001b[39;49m\u001b[39mself\u001b[39;49m\u001b[39m.\u001b[39;49mn_proc)(\n\u001b[1;32m    164\u001b[0m     delayed(\u001b[39mself\u001b[39;49m\u001b[39m.\u001b[39;49m_process_var)(var) \u001b[39mfor\u001b[39;49;00m var \u001b[39min\u001b[39;49;00m \u001b[39mself\u001b[39;49m\u001b[39m.\u001b[39;49mfocus\n\u001b[1;32m    165\u001b[0m )\n\u001b[1;32m    167\u001b[0m \u001b[39m# Save all results\u001b[39;00m\n\u001b[1;32m    168\u001b[0m \u001b[39mif\u001b[39;00m \u001b[39mself\u001b[39m\u001b[39m.\u001b[39msavepath \u001b[39mis\u001b[39;00m \u001b[39mnot\u001b[39;00m \u001b[39mNone\u001b[39;00m: \n",
      "File \u001b[0;32m~/opt/anaconda3/envs/coup-prediction/lib/python3.9/site-packages/joblib/parallel.py:1085\u001b[0m, in \u001b[0;36mParallel.__call__\u001b[0;34m(self, iterable)\u001b[0m\n\u001b[1;32m   1076\u001b[0m \u001b[39mtry\u001b[39;00m:\n\u001b[1;32m   1077\u001b[0m     \u001b[39m# Only set self._iterating to True if at least a batch\u001b[39;00m\n\u001b[1;32m   1078\u001b[0m     \u001b[39m# was dispatched. In particular this covers the edge\u001b[39;00m\n\u001b[0;32m   (...)\u001b[0m\n\u001b[1;32m   1082\u001b[0m     \u001b[39m# was very quick and its callback already dispatched all the\u001b[39;00m\n\u001b[1;32m   1083\u001b[0m     \u001b[39m# remaining jobs.\u001b[39;00m\n\u001b[1;32m   1084\u001b[0m     \u001b[39mself\u001b[39m\u001b[39m.\u001b[39m_iterating \u001b[39m=\u001b[39m \u001b[39mFalse\u001b[39;00m\n\u001b[0;32m-> 1085\u001b[0m     \u001b[39mif\u001b[39;00m \u001b[39mself\u001b[39;49m\u001b[39m.\u001b[39;49mdispatch_one_batch(iterator):\n\u001b[1;32m   1086\u001b[0m         \u001b[39mself\u001b[39m\u001b[39m.\u001b[39m_iterating \u001b[39m=\u001b[39m \u001b[39mself\u001b[39m\u001b[39m.\u001b[39m_original_iterator \u001b[39mis\u001b[39;00m \u001b[39mnot\u001b[39;00m \u001b[39mNone\u001b[39;00m\n\u001b[1;32m   1088\u001b[0m     \u001b[39mwhile\u001b[39;00m \u001b[39mself\u001b[39m\u001b[39m.\u001b[39mdispatch_one_batch(iterator):\n",
      "File \u001b[0;32m~/opt/anaconda3/envs/coup-prediction/lib/python3.9/site-packages/joblib/parallel.py:901\u001b[0m, in \u001b[0;36mParallel.dispatch_one_batch\u001b[0;34m(self, iterator)\u001b[0m\n\u001b[1;32m    899\u001b[0m     \u001b[39mreturn\u001b[39;00m \u001b[39mFalse\u001b[39;00m\n\u001b[1;32m    900\u001b[0m \u001b[39melse\u001b[39;00m:\n\u001b[0;32m--> 901\u001b[0m     \u001b[39mself\u001b[39;49m\u001b[39m.\u001b[39;49m_dispatch(tasks)\n\u001b[1;32m    902\u001b[0m     \u001b[39mreturn\u001b[39;00m \u001b[39mTrue\u001b[39;00m\n",
      "File \u001b[0;32m~/opt/anaconda3/envs/coup-prediction/lib/python3.9/site-packages/joblib/parallel.py:819\u001b[0m, in \u001b[0;36mParallel._dispatch\u001b[0;34m(self, batch)\u001b[0m\n\u001b[1;32m    817\u001b[0m \u001b[39mwith\u001b[39;00m \u001b[39mself\u001b[39m\u001b[39m.\u001b[39m_lock:\n\u001b[1;32m    818\u001b[0m     job_idx \u001b[39m=\u001b[39m \u001b[39mlen\u001b[39m(\u001b[39mself\u001b[39m\u001b[39m.\u001b[39m_jobs)\n\u001b[0;32m--> 819\u001b[0m     job \u001b[39m=\u001b[39m \u001b[39mself\u001b[39;49m\u001b[39m.\u001b[39;49m_backend\u001b[39m.\u001b[39;49mapply_async(batch, callback\u001b[39m=\u001b[39;49mcb)\n\u001b[1;32m    820\u001b[0m     \u001b[39m# A job can complete so quickly than its callback is\u001b[39;00m\n\u001b[1;32m    821\u001b[0m     \u001b[39m# called before we get here, causing self._jobs to\u001b[39;00m\n\u001b[1;32m    822\u001b[0m     \u001b[39m# grow. To ensure correct results ordering, .insert is\u001b[39;00m\n\u001b[1;32m    823\u001b[0m     \u001b[39m# used (rather than .append) in the following line\u001b[39;00m\n\u001b[1;32m    824\u001b[0m     \u001b[39mself\u001b[39m\u001b[39m.\u001b[39m_jobs\u001b[39m.\u001b[39minsert(job_idx, job)\n",
      "File \u001b[0;32m~/opt/anaconda3/envs/coup-prediction/lib/python3.9/site-packages/joblib/_parallel_backends.py:208\u001b[0m, in \u001b[0;36mSequentialBackend.apply_async\u001b[0;34m(self, func, callback)\u001b[0m\n\u001b[1;32m    206\u001b[0m \u001b[39mdef\u001b[39;00m \u001b[39mapply_async\u001b[39m(\u001b[39mself\u001b[39m, func, callback\u001b[39m=\u001b[39m\u001b[39mNone\u001b[39;00m):\n\u001b[1;32m    207\u001b[0m     \u001b[39m\"\"\"Schedule a func to be run\"\"\"\u001b[39;00m\n\u001b[0;32m--> 208\u001b[0m     result \u001b[39m=\u001b[39m ImmediateResult(func)\n\u001b[1;32m    209\u001b[0m     \u001b[39mif\u001b[39;00m callback:\n\u001b[1;32m    210\u001b[0m         callback(result)\n",
      "File \u001b[0;32m~/opt/anaconda3/envs/coup-prediction/lib/python3.9/site-packages/joblib/_parallel_backends.py:597\u001b[0m, in \u001b[0;36mImmediateResult.__init__\u001b[0;34m(self, batch)\u001b[0m\n\u001b[1;32m    594\u001b[0m \u001b[39mdef\u001b[39;00m \u001b[39m__init__\u001b[39m(\u001b[39mself\u001b[39m, batch):\n\u001b[1;32m    595\u001b[0m     \u001b[39m# Don't delay the application, to avoid keeping the input\u001b[39;00m\n\u001b[1;32m    596\u001b[0m     \u001b[39m# arguments in memory\u001b[39;00m\n\u001b[0;32m--> 597\u001b[0m     \u001b[39mself\u001b[39m\u001b[39m.\u001b[39mresults \u001b[39m=\u001b[39m batch()\n",
      "File \u001b[0;32m~/opt/anaconda3/envs/coup-prediction/lib/python3.9/site-packages/joblib/parallel.py:288\u001b[0m, in \u001b[0;36mBatchedCalls.__call__\u001b[0;34m(self)\u001b[0m\n\u001b[1;32m    284\u001b[0m \u001b[39mdef\u001b[39;00m \u001b[39m__call__\u001b[39m(\u001b[39mself\u001b[39m):\n\u001b[1;32m    285\u001b[0m     \u001b[39m# Set the default nested backend to self._backend but do not set the\u001b[39;00m\n\u001b[1;32m    286\u001b[0m     \u001b[39m# change the default number of processes to -1\u001b[39;00m\n\u001b[1;32m    287\u001b[0m     \u001b[39mwith\u001b[39;00m parallel_backend(\u001b[39mself\u001b[39m\u001b[39m.\u001b[39m_backend, n_jobs\u001b[39m=\u001b[39m\u001b[39mself\u001b[39m\u001b[39m.\u001b[39m_n_jobs):\n\u001b[0;32m--> 288\u001b[0m         \u001b[39mreturn\u001b[39;00m [func(\u001b[39m*\u001b[39margs, \u001b[39m*\u001b[39m\u001b[39m*\u001b[39mkwargs)\n\u001b[1;32m    289\u001b[0m                 \u001b[39mfor\u001b[39;00m func, args, kwargs \u001b[39min\u001b[39;00m \u001b[39mself\u001b[39m\u001b[39m.\u001b[39mitems]\n",
      "File \u001b[0;32m~/opt/anaconda3/envs/coup-prediction/lib/python3.9/site-packages/joblib/parallel.py:288\u001b[0m, in \u001b[0;36m<listcomp>\u001b[0;34m(.0)\u001b[0m\n\u001b[1;32m    284\u001b[0m \u001b[39mdef\u001b[39;00m \u001b[39m__call__\u001b[39m(\u001b[39mself\u001b[39m):\n\u001b[1;32m    285\u001b[0m     \u001b[39m# Set the default nested backend to self._backend but do not set the\u001b[39;00m\n\u001b[1;32m    286\u001b[0m     \u001b[39m# change the default number of processes to -1\u001b[39;00m\n\u001b[1;32m    287\u001b[0m     \u001b[39mwith\u001b[39;00m parallel_backend(\u001b[39mself\u001b[39m\u001b[39m.\u001b[39m_backend, n_jobs\u001b[39m=\u001b[39m\u001b[39mself\u001b[39m\u001b[39m.\u001b[39m_n_jobs):\n\u001b[0;32m--> 288\u001b[0m         \u001b[39mreturn\u001b[39;00m [func(\u001b[39m*\u001b[39;49margs, \u001b[39m*\u001b[39;49m\u001b[39m*\u001b[39;49mkwargs)\n\u001b[1;32m    289\u001b[0m                 \u001b[39mfor\u001b[39;00m func, args, kwargs \u001b[39min\u001b[39;00m \u001b[39mself\u001b[39m\u001b[39m.\u001b[39mitems]\n",
      "File \u001b[0;32m~/Documents/research/eba/xbounds/eba.py:190\u001b[0m, in \u001b[0;36mEBA._process_var\u001b[0;34m(self, var)\u001b[0m\n\u001b[1;32m    187\u001b[0m     \u001b[39mreturn\u001b[39;00m var_results\n\u001b[1;32m    189\u001b[0m \u001b[39m# Calculate robustness \u001b[39;00m\n\u001b[0;32m--> 190\u001b[0m var_results \u001b[39m=\u001b[39m \u001b[39mself\u001b[39;49m\u001b[39m.\u001b[39;49m_compute_statistics(var_results)\n\u001b[1;32m    192\u001b[0m \u001b[39m# Save these results\u001b[39;00m\n\u001b[1;32m    193\u001b[0m var_results[\u001b[39m'\u001b[39m\u001b[39mmodel\u001b[39m\u001b[39m'\u001b[39m] \u001b[39m=\u001b[39m \u001b[39mself\u001b[39m\u001b[39m.\u001b[39mmodel_name\n",
      "File \u001b[0;32m~/Documents/research/eba/xbounds/eba.py:262\u001b[0m, in \u001b[0;36mEBA._compute_statistics\u001b[0;34m(self, results)\u001b[0m\n\u001b[1;32m    258\u001b[0m \u001b[39m# Compute robustness according to various criteria\u001b[39;00m\n\u001b[1;32m    259\u001b[0m results[\u001b[39m'\u001b[39m\u001b[39mleamer\u001b[39m\u001b[39m'\u001b[39m] \u001b[39m=\u001b[39m leamer_check(\n\u001b[1;32m    260\u001b[0m     results[\u001b[39m'\u001b[39m\u001b[39mcoef\u001b[39m\u001b[39m'\u001b[39m], results[\u001b[39m'\u001b[39m\u001b[39mse\u001b[39m\u001b[39m'\u001b[39m], \u001b[39mself\u001b[39m\u001b[39m.\u001b[39mz_score\n\u001b[1;32m    261\u001b[0m )\n\u001b[0;32m--> 262\u001b[0m results[\u001b[39m'\u001b[39m\u001b[39msala_normal\u001b[39m\u001b[39m'\u001b[39m] \u001b[39m=\u001b[39m sala_check_normal(\n\u001b[1;32m    263\u001b[0m     results[\u001b[39m'\u001b[39;49m\u001b[39mcoef\u001b[39;49m\u001b[39m'\u001b[39;49m], results[\u001b[39m'\u001b[39;49m\u001b[39mse\u001b[39;49m\u001b[39m'\u001b[39;49m], weights\n\u001b[1;32m    264\u001b[0m )\n\u001b[1;32m    265\u001b[0m results[\u001b[39m'\u001b[39m\u001b[39msala_generic_lf\u001b[39m\u001b[39m'\u001b[39m] \u001b[39m=\u001b[39m sala_check_generic(\n\u001b[1;32m    266\u001b[0m     results[\u001b[39m'\u001b[39m\u001b[39mcoef\u001b[39m\u001b[39m'\u001b[39m], results[\u001b[39m'\u001b[39m\u001b[39mse\u001b[39m\u001b[39m'\u001b[39m], weights\n\u001b[1;32m    267\u001b[0m )\n\u001b[1;32m    268\u001b[0m results[\u001b[39m'\u001b[39m\u001b[39msala_generic_unweighted\u001b[39m\u001b[39m'\u001b[39m] \u001b[39m=\u001b[39m sala_check_generic(\n\u001b[1;32m    269\u001b[0m     results[\u001b[39m'\u001b[39m\u001b[39mcoef\u001b[39m\u001b[39m'\u001b[39m], results[\u001b[39m'\u001b[39m\u001b[39mse\u001b[39m\u001b[39m'\u001b[39m], \u001b[39mNone\u001b[39;00m\n\u001b[1;32m    270\u001b[0m )\n",
      "File \u001b[0;32m~/Documents/research/eba/xbounds/utils.py:94\u001b[0m, in \u001b[0;36msala_check_normal\u001b[0;34m(coef, se, weights)\u001b[0m\n\u001b[1;32m     91\u001b[0m var_bar \u001b[39m=\u001b[39m np\u001b[39m.\u001b[39msqrt(np\u001b[39m.\u001b[39maverage(np\u001b[39m.\u001b[39marray(se)\u001b[39m*\u001b[39m\u001b[39m*\u001b[39m\u001b[39m2\u001b[39m, weights\u001b[39m=\u001b[39mweights))\n\u001b[1;32m     93\u001b[0m \u001b[39m# Compute cdf evaluated at zero \u001b[39;00m\n\u001b[0;32m---> 94\u001b[0m cdf_zero \u001b[39m=\u001b[39m norm\u001b[39m.\u001b[39mcdf(\u001b[39m0\u001b[39m, loc\u001b[39m=\u001b[39mbeta_bar, scale\u001b[39m=\u001b[39mnp\u001b[39m.\u001b[39msqrt(var_bar))\n\u001b[1;32m     95\u001b[0m \u001b[39mreturn\u001b[39;00m cdf_zero\n",
      "\u001b[0;31mNameError\u001b[0m: name 'norm' is not defined"
     ]
    }
   ],
   "source": [
    "X, y, coef = make_regression(500, n_features=10, n_informative=3, coef=True)\n",
    "\n",
    "eba = EBA(k=3, savepath='results/test', save_by_var=True, \n",
    "    check_for_existing=False)\n",
    "\n",
    "eba.run(X, y)\n",
    "\n"
   ]
  },
  {
   "cell_type": "code",
   "execution_count": 47,
   "metadata": {},
   "outputs": [
    {
     "data": {
      "text/plain": [
       "([0, 1, 2, 3, 'y', 4, 5, 6], [0, 1, 2, 3, 4, 5, 6])"
      ]
     },
     "execution_count": 47,
     "metadata": {},
     "output_type": "execute_result"
    }
   ],
   "source": [
    "df = pd.DataFrame(X)\n",
    "\n",
    "df['y'] = 1\n",
    "\n",
    "\n",
    "arr = [0, 1, 2, 3, 'y', 4, 5, 6]\n",
    "# remove 'y' from arr\n",
    "arr_copy = deepcopy(arr)\n",
    "arr_copy.remove('y')\n",
    "\n",
    "arr, arr_copy \n",
    "\n",
    "\n",
    "\n"
   ]
  }
 ],
 "metadata": {
  "kernelspec": {
   "display_name": "coup-prediction",
   "language": "python",
   "name": "python3"
  },
  "language_info": {
   "codemirror_mode": {
    "name": "ipython",
    "version": 3
   },
   "file_extension": ".py",
   "mimetype": "text/x-python",
   "name": "python",
   "nbconvert_exporter": "python",
   "pygments_lexer": "ipython3",
   "version": "3.9.12"
  },
  "orig_nbformat": 4
 },
 "nbformat": 4,
 "nbformat_minor": 2
}
